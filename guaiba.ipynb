{
 "cells": [
  {
   "cell_type": "code",
   "execution_count": 1,
   "metadata": {},
   "outputs": [],
   "source": [
    "# import pandas as pd\n",
    "\n",
    "# df = pd.read_html(\"elevacao_guaiba.xls\")\n",
    "\n",
    "\n",
    "# df = df[0].iloc[6:][[0, 1, 2, 3, 4]]\n",
    "# df.columns = [\n",
    "#     \"datetime\",\n",
    "#     \"hourly_rain_mm\",\n",
    "#     \"water_level_cm\",\n",
    "#     \"flow_rate_m3_per_s\",\n",
    "#     \"batery_v\",\n",
    "# ]\n",
    "\n",
    "# df[\"datetime\"] = pd.to_datetime(df[\"datetime\"], format=\"%d/%m/%Y %H:%M:%S\")\n",
    "\n",
    "# updates = {\n",
    "#     \"2024-05-11 10:45:00\": 459.00,\n",
    "#     \"2024-05-11 10:30:00\": 459.00,\n",
    "#     \"2024-05-11 10:15:00\": 459.00,\n",
    "#     \"2024-05-11 10:00:00\": 459.00,\n",
    "#     \"2024-05-11 09:45:00\": 459.00,\n",
    "#     \"2024-05-11 09:30:00\": 459.00,\n",
    "#     \"2024-05-11 09:15:00\": 459.00,\n",
    "#     \"2024-05-11 09:00:00\": 459.00,\n",
    "#     \"2024-05-11 08:45:00\": 460.00,\n",
    "#     \"2024-05-11 08:30:00\": 460.00,\n",
    "# }\n",
    "\n",
    "# for date_str, level in updates.items():\n",
    "#     date = pd.to_datetime(date_str)\n",
    "#     df.loc[df[\"datetime\"] == date, \"water_level_cm\"] = level\n",
    "\n",
    "\n",
    "# df.to_csv(\"elevacao_guaiba.csv\", index=False)"
   ]
  },
  {
   "cell_type": "code",
   "execution_count": 2,
   "metadata": {},
   "outputs": [],
   "source": [
    "import pandas as pd\n",
    "\n",
    "# https://meteostat.net/pt/station/83967?t=2024-04-15/2024-05-31\n",
    "# df = pd.read_csv(\"/home/bruno/mestrado/Time-LLM/neuralforecast_timellm/guiaba/export.csv\")\n"
   ]
  },
  {
   "cell_type": "markdown",
   "metadata": {},
   "source": [
    "# Guaíba"
   ]
  },
  {
   "cell_type": "code",
   "execution_count": 18,
   "metadata": {},
   "outputs": [],
   "source": [
    "df = pd.read_html(\"raw/guiaba_gasometro.xls\")\n",
    "df = df[0].iloc[6:][[0, 1, 2, 3, 4]]\n",
    "df.columns = [\n",
    "    \"datetime\",\n",
    "    \"hourly_rain_mm\",\n",
    "    \"water_level_cm\",\n",
    "    \"flow_rate_m3_per_s\",\n",
    "    \"batery_v\",\n",
    "]\n",
    "\n",
    "df[\"datetime\"] = pd.to_datetime(df[\"datetime\"], format=\"%d/%m/%Y %H:%M:%S\")\n",
    "df_guiaba_gasometro = df[(df[\"datetime\"]>=\"2024-05-06 14:30:00\")&(df[\"datetime\"]<=\"2024-05-31\")]\n",
    "df_guiaba_gasometro = df_guiaba_gasometro[['datetime', 'water_level_cm', 'hourly_rain_mm']]"
   ]
  },
  {
   "cell_type": "code",
   "execution_count": 28,
   "metadata": {},
   "outputs": [],
   "source": [
    "df = pd.read_excel(\"raw/guiaba_cais_maua.xlsx\")\n",
    "df = df.iloc[8:]\n",
    "\n",
    "\n",
    "df.columns = [\n",
    "    \"datetime\",\n",
    "     \"water_level_cm\",\n",
    "    \"flow_rate_m3_per_s\",\n",
    "    \"hourly_rain_mm\",\n",
    "]\n",
    "\n",
    "df[\"datetime\"] = pd.to_datetime(df[\"datetime\"], format=\"%d/%m/%Y %H:%M:%S\")\n",
    "df = df[df[\"datetime\"]>=\"2024-04-15\"]\n",
    "df_guiaba_maua = df.drop(\"flow_rate_m3_per_s\", axis=1)"
   ]
  },
  {
   "cell_type": "code",
   "execution_count": 35,
   "metadata": {},
   "outputs": [
    {
     "name": "stderr",
     "output_type": "stream",
     "text": [
      "/tmp/ipykernel_89508/1427470576.py:1: SettingWithCopyWarning: \n",
      "A value is trying to be set on a copy of a slice from a DataFrame.\n",
      "Try using .loc[row_indexer,col_indexer] = value instead\n",
      "\n",
      "See the caveats in the documentation: https://pandas.pydata.org/pandas-docs/stable/user_guide/indexing.html#returning-a-view-versus-a-copy\n",
      "  df_guiaba_gasometro[\"hourly_rain_mm\"] = df_guiaba_gasometro[\"hourly_rain_mm\"].astype(float)\n",
      "/tmp/ipykernel_89508/1427470576.py:2: SettingWithCopyWarning: \n",
      "A value is trying to be set on a copy of a slice from a DataFrame.\n",
      "Try using .loc[row_indexer,col_indexer] = value instead\n",
      "\n",
      "See the caveats in the documentation: https://pandas.pydata.org/pandas-docs/stable/user_guide/indexing.html#returning-a-view-versus-a-copy\n",
      "  df_guiaba_gasometro[\"water_level_cm\"] = df_guiaba_gasometro[\"water_level_cm\"].astype(float)\n"
     ]
    }
   ],
   "source": [
    "df_guiaba_gasometro[\"hourly_rain_mm\"] = df_guiaba_gasometro[\"hourly_rain_mm\"].astype(float)\n",
    "df_guiaba_gasometro[\"water_level_cm\"] = df_guiaba_gasometro[\"water_level_cm\"].astype(float)\n",
    "\n",
    "\n",
    "df_guiaba_maua[\"hourly_rain_mm\"] = df_guiaba_maua[\"hourly_rain_mm\"].astype(float)\n",
    "df_guiaba_maua[\"water_level_cm\"] = df_guiaba_maua[\"water_level_cm\"].astype(float)"
   ]
  },
  {
   "cell_type": "code",
   "execution_count": 39,
   "metadata": {},
   "outputs": [],
   "source": [
    "df_guaiba_nivel = pd.concat([df_guiaba_maua, df_guiaba_gasometro])\n",
    "df_guaiba_nivel.to_csv(\"data/df_guaiba_nivel.csv\", index=False)"
   ]
  },
  {
   "cell_type": "code",
   "execution_count": 73,
   "metadata": {},
   "outputs": [],
   "source": [
    "# df = pd.read_csv(\"data/df_guaiba_nivel.csv\",parse_dates=['datetime']).sort_values(by=\"datetime\")"
   ]
  },
  {
   "cell_type": "markdown",
   "metadata": {},
   "source": [
    "# Rio Gravataí"
   ]
  },
  {
   "cell_type": "code",
   "execution_count": 79,
   "metadata": {},
   "outputs": [],
   "source": [
    "df = pd.read_excel(\"raw/ana-87401750.xlsx\")\n",
    "df = df.iloc[8:]\n",
    "\n",
    "\n",
    "df.columns = [\n",
    "    \"datetime\",\n",
    "     \"water_level_cm\",\n",
    "    \"flow_rate_m3_per_s\",\n",
    "    \"hourly_rain_mm\",\n",
    "]\n",
    "\n",
    "df[\"datetime\"] = pd.to_datetime(df[\"datetime\"], format=\"%d/%m/%Y %H:%M:%S\")\n",
    "df = df[(df[\"datetime\"]>=\"2024-04-15\")&(df[\"datetime\"]<=\"2024-05-30 21:00:00\")]\n",
    "# df = df[df[\"datetime\"]>=\"2024-04-15\"]\n",
    "df_gravatai = df.drop(\"flow_rate_m3_per_s\", axis=1)"
   ]
  },
  {
   "cell_type": "code",
   "execution_count": 81,
   "metadata": {},
   "outputs": [],
   "source": [
    "df_gravatai.to_csv(\"data/df_gravatai_nivel.csv\", index=False)"
   ]
  },
  {
   "cell_type": "markdown",
   "metadata": {},
   "source": [
    "# Rio Taquari"
   ]
  },
  {
   "cell_type": "code",
   "execution_count": 82,
   "metadata": {},
   "outputs": [],
   "source": [
    "df = pd.read_excel(\"raw/ana-86881000.xlsx\")\n",
    "df = df.iloc[8:]\n",
    "\n",
    "\n",
    "df.columns = [\n",
    "    \"datetime\",\n",
    "     \"water_level_cm\",\n",
    "    \"flow_rate_m3_per_s\",\n",
    "    \"hourly_rain_mm\",\n",
    "]\n",
    "\n",
    "df[\"datetime\"] = pd.to_datetime(df[\"datetime\"], format=\"%d/%m/%Y %H:%M:%S\")\n",
    "df = df[(df[\"datetime\"]>=\"2024-04-15\")&(df[\"datetime\"]<=\"2024-05-30 21:00:00\")]\n",
    "# df = df[df[\"datetime\"]>=\"2024-04-15\"]\n",
    "df_taquari = df.drop(\"flow_rate_m3_per_s\", axis=1)"
   ]
  },
  {
   "cell_type": "code",
   "execution_count": 84,
   "metadata": {},
   "outputs": [],
   "source": [
    "df_taquari.to_csv(\"data/df_taquari_nivel.csv\", index=False)"
   ]
  },
  {
   "cell_type": "markdown",
   "metadata": {},
   "source": [
    "# Rio dos Sinos"
   ]
  },
  {
   "cell_type": "code",
   "execution_count": 87,
   "metadata": {},
   "outputs": [],
   "source": [
    "df = pd.read_excel(\"raw/ana-87382000.xlsx\")\n",
    "df = df.iloc[8:]\n",
    "\n",
    "\n",
    "df.columns = [\n",
    "    \"datetime\",\n",
    "     \"water_level_cm\",\n",
    "    \"flow_rate_m3_per_s\",\n",
    "    \"hourly_rain_mm\",\n",
    "]\n",
    "\n",
    "df[\"datetime\"] = pd.to_datetime(df[\"datetime\"], format=\"%d/%m/%Y %H:%M:%S\")\n",
    "df = df[(df[\"datetime\"]>=\"2024-04-15\")&(df[\"datetime\"]<=\"2024-05-30 21:00:00\")]\n",
    "# df = df[df[\"datetime\"]>=\"2024-04-15\"]\n",
    "df_sinos = df.drop(\"flow_rate_m3_per_s\", axis=1)"
   ]
  },
  {
   "cell_type": "code",
   "execution_count": 89,
   "metadata": {},
   "outputs": [],
   "source": [
    "df_sinos.to_csv(\"data/df_sinos_nivel.csv\", index=False)"
   ]
  },
  {
   "cell_type": "markdown",
   "metadata": {},
   "source": [
    "# Rio Jacuí"
   ]
  },
  {
   "cell_type": "code",
   "execution_count": 90,
   "metadata": {},
   "outputs": [],
   "source": [
    "df = pd.read_excel(\"raw/ana-85400000.xlsx\")\n",
    "df = df.iloc[8:]\n",
    "\n",
    "\n",
    "df.columns = [\n",
    "    \"datetime\",\n",
    "     \"water_level_cm\",\n",
    "    \"flow_rate_m3_per_s\",\n",
    "    \"hourly_rain_mm\",\n",
    "]\n",
    "\n",
    "df[\"datetime\"] = pd.to_datetime(df[\"datetime\"], format=\"%d/%m/%Y %H:%M:%S\")\n",
    "df = df[(df[\"datetime\"]>=\"2024-04-15\")&(df[\"datetime\"]<=\"2024-05-30 21:00:00\")]\n",
    "# df = df[df[\"datetime\"]>=\"2024-04-15\"]\n",
    "df_jacui = df.drop(\"flow_rate_m3_per_s\", axis=1)"
   ]
  },
  {
   "cell_type": "code",
   "execution_count": 92,
   "metadata": {},
   "outputs": [],
   "source": [
    "df_jacui.to_csv(\"data/df_jacui_nivel.csv\", index=False)"
   ]
  },
  {
   "cell_type": "markdown",
   "metadata": {},
   "source": []
  },
  {
   "cell_type": "code",
   "execution_count": 93,
   "metadata": {},
   "outputs": [],
   "source": [
    "df = pd.read_excel(\"raw/ana-87170000.xlsx\")\n",
    "df = df.iloc[8:]\n",
    "\n",
    "\n",
    "df.columns = [\n",
    "    \"datetime\",\n",
    "     \"water_level_cm\",\n",
    "    \"flow_rate_m3_per_s\",\n",
    "    \"hourly_rain_mm\",\n",
    "]\n",
    "\n",
    "df[\"datetime\"] = pd.to_datetime(df[\"datetime\"], format=\"%d/%m/%Y %H:%M:%S\")\n",
    "df = df[(df[\"datetime\"]>=\"2024-04-15\")&(df[\"datetime\"]<=\"2024-05-30 21:00:00\")]\n",
    "# df = df[df[\"datetime\"]>=\"2024-04-15\"]\n",
    "df_cai = df.drop(\"flow_rate_m3_per_s\", axis=1)"
   ]
  },
  {
   "cell_type": "code",
   "execution_count": 95,
   "metadata": {},
   "outputs": [],
   "source": [
    "df_cai.to_csv(\"data/df_cai_nivel.csv\", index=False)"
   ]
  },
  {
   "cell_type": "markdown",
   "metadata": {},
   "source": [
    "## Dados meteorológicos:\n",
    "\n",
    "#### Informações:\n",
    "- prcp (precipitacao)\n",
    "- wdir(direcao do vento)\n",
    "- wspd (velocidade do tempo)\n",
    "- pres(pressao do vento)\n",
    "  \n",
    "#### Fontes:\n",
    "- dados_meteorologicos_porto_alegre -> https://meteostat.net/pt/station/83967?t=2024-04-15/2024-05-31\n",
    "- dados_meteorologicos_serra_gaucha -> https://meteostat.net/pt/station/SBCX0?t=2024-04-15/2024-05-31\n",
    "\n",
    "obs: frequência diária\n",
    "\n",
    "#### Período:\n",
    "15/04/2024 a 30/05/2024\n",
    "\n",
    "---\n",
    "\n",
    "## Dados níveis dos rios\n",
    "\n",
    "#### Informações:\n",
    "- Nível do rio\n",
    "- Nível da chuva\n",
    "- Temperatura do rio\n",
    "\n",
    "obs: frequência de 15 min\n",
    "\n",
    "#### Fontes:\n",
    "- Todos daqui: [https://www.snirh.gov.br/hidrotelemetria/serieHistorica.aspx ](https://www.saladesituacao.rs.gov.br/dados)\n",
    "  - Guiaba - Estação: CAIS MAUÁ C6 - 87450004 e USINA DO GASÔMETRO - 87444000\n",
    "  - Caí - Estação: \n",
    "  - Taquari - Estação: BOM RETIRO DO SUL - MONTANTE\t- 86881000\n",
    "  - Sinos - Estação: SÃO LEOPOLDO\t- 87382000\n",
    "  - Gravataí - Estação: CORSAN ALVORADA\t- 87401750\n",
    "  - Jacuí - Estação:DONA FRANCISCA - 85400000\n",
    "\n",
    "#### Período:\n",
    "15/04/2024 a 30/05/2024"
   ]
  }
 ],
 "metadata": {
  "kernelspec": {
   "display_name": ".venv",
   "language": "python",
   "name": "python3"
  },
  "language_info": {
   "codemirror_mode": {
    "name": "ipython",
    "version": 3
   },
   "file_extension": ".py",
   "mimetype": "text/x-python",
   "name": "python",
   "nbconvert_exporter": "python",
   "pygments_lexer": "ipython3",
   "version": "3.11.9"
  }
 },
 "nbformat": 4,
 "nbformat_minor": 2
}
