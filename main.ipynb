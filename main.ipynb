{
 "cells": [
  {
   "cell_type": "code",
   "execution_count": 1,
   "metadata": {},
   "outputs": [],
   "source": [
    "from src.main import FullProcess"
   ]
  },
  {
   "cell_type": "markdown",
   "metadata": {},
   "source": [
    "#### The following cells show how to run the full process. Afterwards, just pass the prompt to ChatGPT\n",
    "\n",
    "Obs: If you provide a trained model path, the process will only get its outputs. If you don't provide a model path a new LSTM model will be trained and saved."
   ]
  },
  {
   "cell_type": "code",
   "execution_count": 2,
   "metadata": {},
   "outputs": [],
   "source": [
    "selected_period=\"2024-05-22 second part\"\n",
    "df_path = \"data/df.csv\"\n",
    "model_path = \"model/best_model_12_hours.pt\""
   ]
  },
  {
   "cell_type": "code",
   "execution_count": 3,
   "metadata": {},
   "outputs": [],
   "source": [
    "prompt, test_rmse = FullProcess(\n",
    "    selected_period=selected_period, df_path=df_path, model_path=model_path\n",
    ").run()"
   ]
  },
  {
   "cell_type": "code",
   "execution_count": 4,
   "metadata": {},
   "outputs": [
    {
     "data": {
      "text/plain": [
       "5.7585096"
      ]
     },
     "execution_count": 4,
     "metadata": {},
     "output_type": "execute_result"
    }
   ],
   "source": [
    "test_rmse"
   ]
  },
  {
   "cell_type": "code",
   "execution_count": 5,
   "metadata": {},
   "outputs": [
    {
     "data": {
      "text/plain": [
       "'\\n        INSTRUCTION: \\n        You are a journalist, tasked with writing a brief news article (around 12 lines split into 2 paragraphs).\\n\\n        INPUT:\\n        You will receive data in the following format:\\n\\n        dict(\\n            \\'main_responsable_variables\\': [\\n                                            dict(\\'variable\\': nome_da_variável,\\n                                            \\'importance_in_period\\': feature_importance (0 to 1),\\n                                            \\'value\\': variable_value_in_period),\\n                                            ....\\n                                            dict(\\'variable\\': nome_da_variável,\\n                                            \\'importance_in_period\\': feature_importance (0 to 1),\\n                                            \\'value\\': variable_value_in_period)],                                                  \\n            \\'Nível máximo previsto para o Rio Guaíba no período\\': water level value in meters,\\n            \\'Nível mínimo previsto para o Rio Guaíba no período\\': water level value in meters,\\n            \\'Nível médio previsto para o Rio Guaíba no período\\': water level value in meters\\n            )\\n\\n        HOW THIS INFORMATION WAS CALCULATED:\\n        A forecast was made for the water level of the Guaíba River (\\'Maximum predicted level for the Guaíba River in the period\\', \\'Minimum predicted level for the Guaíba River in the period\\', and \\'Average predicted level for the Guaíba River in the period\\').\\n        Based on this, I calculated the feature importance of each forecast and returned in \\'main_responsable_variables\\' the 4 most important features for each forecast.\\n\\n        Each item will contain:\\n        - \\'variable\\': Name of the variable\\n        - \\'importance_in_period\\': Feature importance (ranging from 0 to 1, like a percentage)\\n        - \\'value\\': Value of the variable in the period. Note: The scale will match the variable, e.g., m, m/s, mm, etc.\\n\\n        NEWS ARTICLE FORMAT:\\n        You will also receive the timestamp of the news you will report, for example \"2020-05-22 second part\", which means the forecast made for the second half of May 22, 2020.\\n        From this, you will write a news article in a tone of concern, remembering that you are a journalist.\\n        ALWAYS mention the maximum, average, and minimum predicted levels for the Guaíba River in the period.\\n        ALWAYS mention the factors that contributed the most to this forecast (specifically the 4 main_responsable_variables)\\n        However, NEVER mention the feature importance value (importance_in_period), but you should convey the tone of each variable according to its importance, without mentioning the exact importance.\\n        For the \"value\", you can mention it when you find it appropriate.\\n\\n        DATE:\\n        You should write about the forecast for the day 2024-05-22 second part (write the date in full), here is the data.\\n        {\\'main_responsable_variables\\': [{\\'variable\\': \\'nível de água do Rio Gravataí (m)\\', \\'importance_in_period\\': 0.47244612916278755, \\'value\\': 4.955}, {\\'variable\\': \\'nível de água do Rio Taquari (m)\\', \\'importance_in_period\\': 0.25869944010038104, \\'value\\': 6.426}, {\\'variable\\': \\'chuva acumulada no Rio Guaíba para o período (mm)\\', \\'importance_in_period\\': 0.12391340584845682, \\'value\\': 0.0}, {\\'variable\\': \\'velocidade do vento em Porto Alegre (m/s)\\', \\'importance_in_period\\': 0.06837596976125407, \\'value\\': 5.985833333333333}], \\'Nível máximo previsto para o Rio Guaíba no período\\': 3.884999990463257, \\'Nível mínimo previsto para o Rio Guaíba no período\\': 3.747999906539917, \\'Nível médio previsto para o Rio Guaíba no período\\': 3.803999900817871}\\n\\n        IMPORTANT: Always reply in Brazilian Portuguese.'"
      ]
     },
     "execution_count": 5,
     "metadata": {},
     "output_type": "execute_result"
    }
   ],
   "source": [
    "prompt"
   ]
  },
  {
   "cell_type": "markdown",
   "metadata": {},
   "source": [
    "#### Now you can just pass the prompt to ChatGPT"
   ]
  },
  {
   "cell_type": "markdown",
   "metadata": {},
   "source": [
    "## Prompt Example:"
   ]
  },
  {
   "cell_type": "markdown",
   "metadata": {},
   "source": [
    "```\n",
    "INSTRUCTION: \n",
    "You are a journalist, tasked with writing a brief news article (around 12 lines split into 2 paragraphs).\n",
    "\n",
    "INPUT:\n",
    "You will receive data in the following format:\n",
    "\n",
    "dict(\n",
    "    'main_responsable_variables': [\n",
    "        dict('variable': nome_da_variável,\n",
    "             'importance_in_period': feature_importance (0 to 1),\n",
    "             'value': variable_value_in_period),\n",
    "        ....\n",
    "        dict('variable': nome_da_variável,\n",
    "             'importance_in_period': feature_importance (0 to 1),\n",
    "             'value': variable_value_in_period)\n",
    "    ],                                                 \n",
    "    'Nível máximo previsto para o Rio Guaíba no período': water level value in meters,\n",
    "    'Nível mínimo previsto para o Rio Guaíba no período': water level value in meters,\n",
    "    'Nível médio previsto para o Rio Guaíba no período': water level value in meters\n",
    ")\n",
    "\n",
    "HOW THIS INFORMATION WAS CALCULATED:\n",
    "A forecast was made for the water level of the Guaíba River ('Maximum predicted level for the Guaíba River in the period', 'Minimum predicted level for the Guaíba River in the period', and 'Average predicted level for the Guaíba River in the period').\n",
    "Based on this, I calculated the feature importance of each forecast and returned in 'main_responsable_variables' the 4 most important features for each forecast.\n",
    "\n",
    "Each item will contain:\n",
    "- 'variable': Name of the variable\n",
    "- 'importance_in_period': Feature importance (ranging from 0 to 1, like a percentage)\n",
    "- 'value': Value of the variable in the period. Note: The scale will match the variable, e.g., m, m/s, mm, etc.\n",
    "\n",
    "NEWS ARTICLE FORMAT:\n",
    "You will also receive the timestamp of the news you will report, for example \"2020-05-22 second part\", which means the forecast made for the second half of May 22, 2020.\n",
    "From this, you will write a news article in a tone of concern, remembering that you are a journalist.\n",
    "ALWAYS mention the maximum, average, and minimum predicted levels for the Guaíba River in the period.\n",
    "ALWAYS mention the factors that contributed the most to this forecast (specifically the 4 main_responsable_variables).\n",
    "However, NEVER mention the feature importance value (importance_in_period), but you should convey the tone of each variable according to its importance, without mentioning the exact importance.\n",
    "For the \"value\", you can mention it when you find it appropriate.\n",
    "\n",
    "DATE:\n",
    "You should write about the forecast for the day 2024-05-22 second part (write the date in full), here is the data.\n",
    "{\n",
    "    'main_responsable_variables': [\n",
    "        {'variable': 'nível de água do Rio Gravataí (m)', 'importance_in_period': 0.47244612916278755, 'value': 4.955},\n",
    "        {'variable': 'nível de água do Rio Taquari (m)', 'importance_in_period': 0.25869944010038104, 'value': 6.426},\n",
    "        {'variable': 'chuva acumulada no Rio Guaíba para o período (mm)', 'importance_in_period': 0.12391340584845682, 'value': 0.0},\n",
    "        {'variable': 'velocidade do vento em Porto Alegre (m/s)', 'importance_in_period': 0.06837596976125407, 'value': 5.985833333333333}\n",
    "    ],\n",
    "    'Nível máximo previsto para o Rio Guaíba no período': 3.884999990463257,\n",
    "    'Nível mínimo previsto para o Rio Guaíba no período': 3.747999906539917,\n",
    "    'Nível médio previsto para o Rio Guaíba no período': 3.803999900817871\n",
    "}\n",
    "\n",
    "IMPORTANT: Always reply in Brazilian Portuguese.\n",
    "```"
   ]
  },
  {
   "cell_type": "markdown",
   "metadata": {},
   "source": [
    "## Output example from ChatGPT\n",
    "\n",
    "\"\"\"\n",
    "\n",
    "Previsão Preocupante para o Nível do Rio Guaíba em 22 de maio de 2024\n",
    "\n",
    "Em 22 de maio de 2024, na segunda metade do dia, o nível do Rio Guaíba deverá alcançar um valor máximo de 3,88 metros, enquanto a previsão média é de 3,80 metros e a mínima de 3,75 metros. Esses níveis elevados geram preocupação para as áreas ribeirinhas de Porto Alegre e arredores. Diversos fatores contribuem para essa situação crítica, incluindo o nível de água do Rio Gravataí, que está em 4,96 metros, influenciando significativamente o aumento no Guaíba.\n",
    "\n",
    "Outros fatores importantes são o nível de água do Rio Taquari, que atinge 6,43 metros, e a ausência de chuva acumulada no Rio Guaíba para o período, agravando ainda mais a situação. A velocidade do vento em Porto Alegre, registrada em aproximadamente 6 m/s, também contribui para essa elevação. As autoridades monitoram atentamente essas variáveis e a população deve se manter informada e preparada para possíveis ações de mitigação.\n",
    "\n",
    "\"\"\"\n"
   ]
  }
 ],
 "metadata": {
  "kernelspec": {
   "display_name": ".venv",
   "language": "python",
   "name": "python3"
  },
  "language_info": {
   "codemirror_mode": {
    "name": "ipython",
    "version": 3
   },
   "file_extension": ".py",
   "mimetype": "text/x-python",
   "name": "python",
   "nbconvert_exporter": "python",
   "pygments_lexer": "ipython3",
   "version": "3.11.9"
  }
 },
 "nbformat": 4,
 "nbformat_minor": 2
}
