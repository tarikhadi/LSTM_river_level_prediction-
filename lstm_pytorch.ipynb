{
 "cells": [
  {
   "cell_type": "code",
   "execution_count": 1,
   "metadata": {},
   "outputs": [
    {
     "name": "stdout",
     "output_type": "stream",
     "text": [
      "GPUs disponíveis:  1\n"
     ]
    }
   ],
   "source": [
    "import torch\n",
    "import torch.nn as nn\n",
    "import torch.optim as optim\n",
    "from torch.utils.data import DataLoader, TensorDataset\n",
    "import pandas as pd\n",
    "import numpy as np\n",
    "from sklearn.preprocessing import MinMaxScaler\n",
    "import matplotlib.pyplot as plt\n",
    "from sklearn.metrics import mean_squared_error\n",
    "import seaborn as sns\n",
    "import time\n",
    "\n",
    "print(\"GPUs disponíveis: \", torch.cuda.device_count())\n",
    "device = torch.device(\"cuda\" if torch.cuda.is_available() else \"cpu\")"
   ]
  },
  {
   "cell_type": "code",
   "execution_count": 2,
   "metadata": {},
   "outputs": [],
   "source": [
    "# Carregar os dados\n",
    "df = pd.read_csv(\"/home/bruno/mestrado/mestrado-projeto-deep-learning/data/df.csv\")\n",
    "df[\"date\"] = pd.to_datetime(df[\"date\"])\n",
    "\n",
    "# Definir a coluna de data como índice\n",
    "df.set_index(\"date\", inplace=True)"
   ]
  },
  {
   "cell_type": "code",
   "execution_count": 3,
   "metadata": {},
   "outputs": [],
   "source": [
    "df = df.drop(columns=[\"temperature_poa\", 'pressure_poa'])"
   ]
  },
  {
   "cell_type": "markdown",
   "metadata": {},
   "source": [
    "Fazemos o shift de 12 horas, pois na prática não teremos o valor das variáveis em tempo real. Por isso, vamos usar as últimas 12 horas para prever o momento atual."
   ]
  },
  {
   "cell_type": "code",
   "execution_count": 4,
   "metadata": {},
   "outputs": [],
   "source": [
    "shifted_columns = df.columns.difference(['water_level_cm_guaiba'])\n",
    "df[shifted_columns] = df[shifted_columns].shift(12)\n",
    "df = df.dropna()\n"
   ]
  },
  {
   "cell_type": "code",
   "execution_count": 5,
   "metadata": {},
   "outputs": [],
   "source": [
    "# Aplicar scalers\n",
    "scalers = {col: MinMaxScaler(feature_range=(0, 1)) for col in df.columns}\n",
    "scaled_data = pd.DataFrame(index=df.index)\n",
    "for col in df.columns:\n",
    "    scaled_data[col] = scalers[col].fit_transform(df[[col]])"
   ]
  },
  {
   "cell_type": "code",
   "execution_count": 6,
   "metadata": {},
   "outputs": [],
   "source": [
    "\n",
    "\n",
    "# Função para criar janelas de tempo\n",
    "def create_dataset(data, target_column, sequence_length):\n",
    "    X, Y = [], []\n",
    "    target_index = data.columns.get_loc(target_column)\n",
    "    for i in range(len(data) - sequence_length):\n",
    "        X.append(data.iloc[i:(i + sequence_length)].values)\n",
    "        Y.append(data.iloc[i + sequence_length, target_index])\n",
    "    return np.array(X), np.array(Y)"
   ]
  },
  {
   "cell_type": "code",
   "execution_count": 7,
   "metadata": {},
   "outputs": [],
   "source": [
    "# Definir a janela de tempo e a variável target\n",
    "sequence_length = 36\n",
    "target_column = 'water_level_cm_guaiba'\n",
    "\n",
    "# Criar o dataset com janelas de tempo\n",
    "X, Y = create_dataset(scaled_data, target_column, sequence_length)"
   ]
  },
  {
   "cell_type": "code",
   "execution_count": 8,
   "metadata": {},
   "outputs": [],
   "source": [
    "# Redefinir a forma dos dados para [samples, time steps, features]\n",
    "X = np.reshape(X, (X.shape[0], X.shape[1], X.shape[2]))\n",
    "\n",
    "# Dividir os dados em treino (70%), validação (15%) e teste (15%)\n",
    "train_size = int(len(X) * 0.7)\n",
    "val_size = int(len(X) * 0.15)\n",
    "test_size = len(X) - train_size - val_size\n",
    "\n",
    "X_train, X_val, X_test = X[:train_size], X[train_size:train_size + val_size], X[train_size + val_size:]\n",
    "Y_train, Y_val, Y_test = Y[:train_size], Y[train_size:train_size + val_size], Y[train_size + val_size:]"
   ]
  },
  {
   "cell_type": "code",
   "execution_count": 9,
   "metadata": {},
   "outputs": [],
   "source": [
    "\n",
    "# Definir o modelo LSTM\n",
    "class LSTMModel(nn.Module):\n",
    "    def __init__(self, input_dim, hidden_dim1, hidden_dim2, output_dim):\n",
    "        super(LSTMModel, self).__init__()\n",
    "        self.lstm1 = nn.LSTM(input_dim, hidden_dim1, batch_first=True, bidirectional=True)\n",
    "        self.lstm2 = nn.LSTM(hidden_dim1*2, hidden_dim2, batch_first=True, bidirectional=True)\n",
    "        self.fc = nn.Linear(hidden_dim2*2, output_dim)\n",
    "\n",
    "    def forward(self, x):\n",
    "        x, _ = self.lstm1(x)\n",
    "        x, _ = self.lstm2(x)\n",
    "        x = self.fc(x[:, -1, :])\n",
    "        return x\n"
   ]
  },
  {
   "cell_type": "code",
   "execution_count": 10,
   "metadata": {},
   "outputs": [],
   "source": [
    "# Parâmetros\n",
    "input_dim = X.shape[2]\n",
    "hidden_dim1 = 150\n",
    "hidden_dim2 = 70\n",
    "output_dim = 1\n",
    "learning_rate = 1e-3\n",
    "num_epochs = 200\n",
    "batch_size = 32\n",
    "early_stopping_patience = 30\n",
    "\n",
    "X_train_tensor = torch.tensor(X_train, dtype=torch.float32).to(device)\n",
    "Y_train_tensor = torch.tensor(Y_train, dtype=torch.float32).unsqueeze(1).to(device)\n",
    "X_val_tensor = torch.tensor(X_val, dtype=torch.float32).to(device)\n",
    "Y_val_tensor = torch.tensor(Y_val, dtype=torch.float32).unsqueeze(1).to(device)\n",
    "X_test_tensor = torch.tensor(X_test, dtype=torch.float32).to(device)\n",
    "Y_test_tensor = torch.tensor(Y_test, dtype=torch.float32).unsqueeze(1).to(device)\n",
    "\n",
    "# Criar DataLoader\n",
    "train_dataset = TensorDataset(X_train_tensor, Y_train_tensor)\n",
    "val_dataset = TensorDataset(X_val_tensor, Y_val_tensor)\n",
    "train_loader = DataLoader(train_dataset, batch_size=batch_size, shuffle=True)\n",
    "val_loader = DataLoader(val_dataset, batch_size=batch_size, shuffle=False)\n",
    "\n",
    "# Inicializar o modelo, função de perda e otimizador\n",
    "model = LSTMModel(input_dim, hidden_dim1, hidden_dim2, output_dim).to(device)\n",
    "criterion = nn.MSELoss()\n",
    "optimizer = optim.Adam(model.parameters(), lr=learning_rate)"
   ]
  },
  {
   "cell_type": "code",
   "execution_count": 11,
   "metadata": {},
   "outputs": [
    {
     "name": "stdout",
     "output_type": "stream",
     "text": [
      "Epoch 1, Loss: 0.008833949454128742, Val Loss: 0.002482287274324335\n",
      "Epoch 2, Loss: 0.025782734155654907, Val Loss: 0.007626427570357919\n",
      "Epoch 3, Loss: 0.030251428484916687, Val Loss: 0.008373195811873301\n",
      "Epoch 4, Loss: 0.018758516758680344, Val Loss: 0.004788979669683613\n",
      "Epoch 5, Loss: 0.019710350781679153, Val Loss: 0.005843260488472879\n",
      "Epoch 6, Loss: 0.012779305689036846, Val Loss: 0.0032267067668726667\n",
      "Epoch 7, Loss: 0.009334570728242397, Val Loss: 0.002402320750115905\n",
      "Epoch 8, Loss: 0.008971505798399448, Val Loss: 0.0021953176124952733\n",
      "Epoch 9, Loss: 0.012857513502240181, Val Loss: 0.0036568592884577812\n",
      "Epoch 10, Loss: 0.0073650917038321495, Val Loss: 0.0018465423592715525\n",
      "Epoch 11, Loss: 0.008303267881274223, Val Loss: 0.002250387810636312\n",
      "Epoch 12, Loss: 0.00828396063297987, Val Loss: 0.002281823894008994\n",
      "Epoch 13, Loss: 0.005590697284787893, Val Loss: 0.0014507043655612507\n",
      "Epoch 14, Loss: 0.007286082021892071, Val Loss: 0.002056746231392026\n",
      "Epoch 15, Loss: 0.009671799838542938, Val Loss: 0.00283321232709568\n",
      "Epoch 16, Loss: 0.006916251499205828, Val Loss: 0.001905595946300309\n",
      "Epoch 17, Loss: 0.008115100674331188, Val Loss: 0.002253767414367758\n",
      "Epoch 18, Loss: 0.008566094562411308, Val Loss: 0.002721036970615387\n",
      "Epoch 19, Loss: 0.004542302340269089, Val Loss: 0.0012484245642554014\n",
      "Epoch 20, Loss: 0.008433294482529163, Val Loss: 0.0025782244600122796\n",
      "Epoch 21, Loss: 0.0029197956901043653, Val Loss: 0.0008451666617474984\n",
      "Epoch 22, Loss: 0.005167139228433371, Val Loss: 0.0013848484522895887\n",
      "Epoch 23, Loss: 0.007711982354521751, Val Loss: 0.002365248289424926\n",
      "Epoch 24, Loss: 0.004807983059436083, Val Loss: 0.0013134992390405388\n",
      "Epoch 25, Loss: 0.00643469113856554, Val Loss: 0.0019236397580243646\n",
      "Epoch 26, Loss: 0.022123433649539948, Val Loss: 0.011482988204807042\n",
      "Epoch 27, Loss: 0.0005275696166791022, Val Loss: 0.0017198552726767958\n",
      "Epoch 28, Loss: 0.0008632525568827987, Val Loss: 0.0018712442135438323\n",
      "Epoch 29, Loss: 0.0020181864965707064, Val Loss: 0.0006101138074882329\n",
      "Epoch 30, Loss: 0.0028943128418177366, Val Loss: 0.0006752105393388775\n",
      "Epoch 31, Loss: 0.014492705464363098, Val Loss: 0.0056145474780350925\n",
      "Epoch 32, Loss: 0.003990563098341227, Val Loss: 0.0008538993773981929\n",
      "Epoch 33, Loss: 0.001666927244514227, Val Loss: 0.0006166109524201602\n",
      "Epoch 34, Loss: 0.0009057307615876198, Val Loss: 0.0006388204987160861\n",
      "Epoch 35, Loss: 0.0008368675480596721, Val Loss: 0.0004914039978757501\n",
      "Epoch 36, Loss: 0.000848907046020031, Val Loss: 0.00042547388875391334\n",
      "Epoch 37, Loss: 0.004391159396618605, Val Loss: 0.0010387128102593123\n",
      "Epoch 38, Loss: 0.001671281293965876, Val Loss: 0.000495873655017931\n",
      "Epoch 39, Loss: 0.0013259468832984567, Val Loss: 0.0007486710150260478\n",
      "Epoch 40, Loss: 0.0012662436347454786, Val Loss: 0.00038892414449946954\n",
      "Epoch 41, Loss: 0.002449930878356099, Val Loss: 0.0005672323553881142\n",
      "Epoch 42, Loss: 0.0014455909840762615, Val Loss: 0.00037941773916827515\n",
      "Epoch 43, Loss: 0.0006923197652213275, Val Loss: 0.00048279849288519473\n",
      "Epoch 44, Loss: 0.001996341859921813, Val Loss: 0.000454262840867159\n",
      "Epoch 45, Loss: 0.0011660645250231028, Val Loss: 0.00034277941085747443\n",
      "Epoch 46, Loss: 0.0009448789642192423, Val Loss: 0.0003477190330158919\n",
      "Epoch 47, Loss: 0.0029253927059471607, Val Loss: 0.000814202005858533\n",
      "Epoch 48, Loss: 0.0003737294173333794, Val Loss: 0.0007668509555514902\n",
      "Epoch 49, Loss: 0.0020229690708220005, Val Loss: 0.00046114522228890564\n",
      "Epoch 50, Loss: 0.0009593339636921883, Val Loss: 0.0003806088599958457\n",
      "Epoch 51, Loss: 0.0008364490931853652, Val Loss: 0.0003436256607528776\n",
      "Epoch 52, Loss: 0.0011356614995747805, Val Loss: 0.00030220434528018816\n",
      "Epoch 53, Loss: 0.0018182124476879835, Val Loss: 0.0004147866920902743\n",
      "Epoch 54, Loss: 0.00022935474407859147, Val Loss: 0.0007123023795429617\n",
      "Epoch 55, Loss: 0.0007636902737431228, Val Loss: 0.00020532405978883616\n",
      "Epoch 56, Loss: 0.0022460699547082186, Val Loss: 0.0006090574999689125\n",
      "Epoch 57, Loss: 0.00022762002481613308, Val Loss: 0.0008951339201303199\n",
      "Epoch 58, Loss: 0.0003405541938263923, Val Loss: 0.00033817371586337687\n",
      "Epoch 59, Loss: 0.0005616193520836532, Val Loss: 0.00030677539180032907\n",
      "Epoch 60, Loss: 0.00035134024801664054, Val Loss: 0.00039445777074433865\n",
      "Epoch 61, Loss: 0.0010000279871746898, Val Loss: 0.00024834852665662767\n",
      "Epoch 62, Loss: 0.0008423445397056639, Val Loss: 0.00021727991334046236\n",
      "Epoch 63, Loss: 0.00046907170326448977, Val Loss: 0.00024105406046146527\n",
      "Epoch 64, Loss: 0.0007374139386229217, Val Loss: 0.0001872063170594629\n",
      "Epoch 65, Loss: 0.00026951791369356215, Val Loss: 0.00025229303282685577\n",
      "Epoch 66, Loss: 0.0002782825904432684, Val Loss: 0.00017643231549300254\n",
      "Epoch 67, Loss: 0.0004723728634417057, Val Loss: 0.0003176259866449982\n",
      "Epoch 68, Loss: 0.000150050429510884, Val Loss: 0.0007501527172280476\n",
      "Epoch 69, Loss: 0.00013139809016138315, Val Loss: 0.00045052460045553745\n",
      "Epoch 70, Loss: 0.0002864271809812635, Val Loss: 0.0003340110328281298\n",
      "Epoch 71, Loss: 0.0003665116091724485, Val Loss: 0.0003431654302403331\n",
      "Epoch 72, Loss: 0.0002632470859680325, Val Loss: 0.0008187585335690528\n",
      "Epoch 73, Loss: 0.00031636073254048824, Val Loss: 0.00033943950256798416\n",
      "Epoch 74, Loss: 0.00035996807855553925, Val Loss: 0.00018852318462450057\n",
      "Epoch 75, Loss: 0.00018646236276254058, Val Loss: 0.000431789830327034\n",
      "Epoch 76, Loss: 0.00027557380963116884, Val Loss: 0.0008686920860782266\n",
      "Epoch 77, Loss: 0.00017116831440944225, Val Loss: 0.00020232158422004432\n",
      "Epoch 78, Loss: 9.613441216060892e-05, Val Loss: 0.00020473302429309116\n",
      "Epoch 79, Loss: 0.00026271172100678086, Val Loss: 0.0003960070200264454\n",
      "Epoch 80, Loss: 0.0011661804746836424, Val Loss: 0.0023860323242843153\n",
      "Epoch 81, Loss: 0.0006602301145903766, Val Loss: 0.0009301962330937385\n",
      "Epoch 82, Loss: 0.0007603795384056866, Val Loss: 0.0002688667242182419\n",
      "Epoch 83, Loss: 0.00025706953601911664, Val Loss: 0.00039426553994417193\n",
      "Epoch 84, Loss: 0.0005090122576802969, Val Loss: 0.00016090982098830863\n",
      "Epoch 85, Loss: 0.0002635611454024911, Val Loss: 0.000615116476546973\n",
      "Epoch 86, Loss: 0.0014560973504558206, Val Loss: 0.00043913949048146605\n",
      "Epoch 87, Loss: 0.00046517225564457476, Val Loss: 0.00015720087467343546\n",
      "Epoch 88, Loss: 0.0007244860753417015, Val Loss: 0.00018299465600648545\n",
      "Epoch 89, Loss: 0.0003144741349387914, Val Loss: 0.0001881565258372575\n",
      "Epoch 90, Loss: 0.00012975996651221067, Val Loss: 0.0003426539740758017\n",
      "Epoch 91, Loss: 0.0003123927453998476, Val Loss: 0.00029931729950476437\n",
      "Epoch 92, Loss: 0.00015721141244284809, Val Loss: 0.0002076451521134004\n",
      "Epoch 93, Loss: 0.0010357609717175364, Val Loss: 0.0002816361160512315\n",
      "Epoch 94, Loss: 0.0008832508465275168, Val Loss: 0.00020772434618265834\n",
      "Epoch 95, Loss: 0.00023498351220041513, Val Loss: 0.00012065201772202273\n",
      "Epoch 96, Loss: 0.00018708439893089235, Val Loss: 0.0003420172171900049\n",
      "Epoch 97, Loss: 0.00024058438430074602, Val Loss: 0.00022299648262560367\n",
      "Epoch 98, Loss: 0.0003171473217662424, Val Loss: 9.739043089211919e-05\n",
      "Epoch 99, Loss: 0.00020136825332883745, Val Loss: 0.00023590029159095138\n",
      "Epoch 100, Loss: 0.0005944808362983167, Val Loss: 0.00016066799898908357\n",
      "Epoch 101, Loss: 0.00021218240726739168, Val Loss: 0.0006505207391455769\n",
      "Epoch 102, Loss: 0.0004033432633150369, Val Loss: 0.00010967237467411906\n",
      "Epoch 103, Loss: 0.00011808938870672137, Val Loss: 0.0005109145335154608\n",
      "Epoch 104, Loss: 0.0024828831665217876, Val Loss: 0.0006279420282226056\n",
      "Epoch 105, Loss: 0.0022379348520189524, Val Loss: 0.0004865834078373155\n",
      "Epoch 106, Loss: 0.000805388786830008, Val Loss: 0.0004169998544966802\n",
      "Epoch 107, Loss: 0.0009138518944382668, Val Loss: 0.0004105277359485626\n",
      "Epoch 108, Loss: 0.00048199811135418713, Val Loss: 0.00019978732016170397\n",
      "Epoch 109, Loss: 0.0004240246198605746, Val Loss: 0.0002810603735269979\n",
      "Epoch 110, Loss: 0.0002578885178081691, Val Loss: 0.00041881765937432645\n",
      "Epoch 111, Loss: 0.0005270931869745255, Val Loss: 0.00016715113961254246\n",
      "Epoch 112, Loss: 0.0003338757960591465, Val Loss: 0.00025177607021760197\n",
      "Epoch 113, Loss: 0.000666031613945961, Val Loss: 0.00015967082144925372\n",
      "Epoch 114, Loss: 0.0002171584201278165, Val Loss: 0.00012275799817871303\n",
      "Epoch 115, Loss: 0.00038196967216208577, Val Loss: 0.00013224482972873375\n",
      "Epoch 116, Loss: 0.0002555269165895879, Val Loss: 9.739177112351171e-05\n",
      "Epoch 117, Loss: 0.00014206903870217502, Val Loss: 0.00019779153517447413\n",
      "Epoch 118, Loss: 0.00010885258234338835, Val Loss: 0.0002450074491207488\n",
      "Epoch 119, Loss: 0.00022271006309892982, Val Loss: 0.0001841104807681404\n",
      "Epoch 120, Loss: 0.00013240781845524907, Val Loss: 0.0003075971151702106\n",
      "Epoch 121, Loss: 0.0001387504889862612, Val Loss: 0.0004946411616401746\n",
      "Epoch 122, Loss: 0.00010673906945157796, Val Loss: 0.00026404293603263793\n",
      "Epoch 123, Loss: 0.0001808006054488942, Val Loss: 0.00022747830662410705\n",
      "Epoch 124, Loss: 0.0002930400369223207, Val Loss: 0.0005933814856689424\n",
      "Epoch 125, Loss: 0.00023269753728527576, Val Loss: 0.00045146650227252395\n",
      "Epoch 126, Loss: 0.00032856938196346164, Val Loss: 0.00010738114433479495\n",
      "Epoch 127, Loss: 0.00028218876104801893, Val Loss: 0.0006225967779755592\n",
      "Epoch 128, Loss: 0.0002866822178475559, Val Loss: 0.0007349810097366571\n",
      "Early stopping\n"
     ]
    }
   ],
   "source": [
    "\n",
    "# Treinamento com early stopping\n",
    "best_loss = float('inf')\n",
    "patience = 0\n",
    "\n",
    "for epoch in range(num_epochs):\n",
    "    model.train()\n",
    "    for X_batch, Y_batch in train_loader:\n",
    "        optimizer.zero_grad()\n",
    "        outputs = model(X_batch)\n",
    "        loss = criterion(outputs, Y_batch)\n",
    "        loss.backward()\n",
    "        optimizer.step()\n",
    "\n",
    "    model.eval()\n",
    "    val_loss = 0\n",
    "    with torch.no_grad():\n",
    "        for X_batch, Y_batch in val_loader:\n",
    "            outputs = model(X_batch)\n",
    "            loss = criterion(outputs, Y_batch)\n",
    "            val_loss += loss.item()\n",
    "    val_loss /= len(val_loader)\n",
    "\n",
    "    print(f'Epoch {epoch+1}, Loss: {loss.item()}, Val Loss: {val_loss}')\n",
    "\n",
    "    if val_loss < best_loss:\n",
    "        best_loss = val_loss\n",
    "        patience = 0\n",
    "        best_model_wts = model.state_dict()\n",
    "    else:\n",
    "        patience += 1\n",
    "        if patience >= early_stopping_patience:\n",
    "            print(\"Early stopping\")\n",
    "            break"
   ]
  },
  {
   "cell_type": "code",
   "execution_count": 12,
   "metadata": {},
   "outputs": [],
   "source": [
    "# Carregar os melhores pesos do modelo\n",
    "model.load_state_dict(best_model_wts)\n",
    "\n",
    "# Fazer previsões\n",
    "model.eval()\n",
    "with torch.no_grad():\n",
    "    test_predict = model(X_test_tensor).cpu().numpy()"
   ]
  },
  {
   "cell_type": "code",
   "execution_count": 13,
   "metadata": {},
   "outputs": [],
   "source": [
    "# Inverter a transformação das previsões e valores reais\n",
    "y_pred = scalers[target_column].inverse_transform(test_predict)\n",
    "y_val = scalers[target_column].inverse_transform(Y_val_tensor.cpu().numpy().reshape(-1, 1))\n",
    "y_train = scalers[target_column].inverse_transform(Y_train_tensor.cpu().numpy().reshape(-1, 1))\n",
    "y_true = scalers[target_column].inverse_transform(Y_test_tensor.cpu().numpy().reshape(-1, 1))"
   ]
  },
  {
   "cell_type": "code",
   "execution_count": 14,
   "metadata": {},
   "outputs": [
    {
     "name": "stdout",
     "output_type": "stream",
     "text": [
      "RMSE: 19.05674934387207\n"
     ]
    },
    {
     "data": {
      "image/png": "[encoded data removed]",
      "text/plain": [
       "<Figure size 1500x800 with 1 Axes>"
      ]
     },
     "metadata": {},
     "output_type": "display_data"
    }
   ],
   "source": [
    "# Calcular RMSE\n",
    "rmse = np.sqrt(mean_squared_error(y_true, y_pred))\n",
    "print(f'RMSE: {rmse}')\n",
    "\n",
    "# Concatenar dados de treino e validação para plotagem\n",
    "train_val_real = np.concatenate((y_train, y_val))\n",
    "\n",
    "# Plotar resultados\n",
    "plt.figure(figsize=(15, 8))\n",
    "plt.plot(df.index[:len(train_val_real)], train_val_real, label='Train', color='blue')\n",
    "plt.plot(df.index[len(train_val_real):len(train_val_real) + len(y_true)], y_true, label='Test - True', color='green')\n",
    "plt.plot(df.index[len(train_val_real):len(train_val_real) + len(y_pred)], y_pred, label='Test - Predict', linestyle='--', color='red')\n",
    "plt.axvline(x=df.index[len(train_val_real)], color='orange', linestyle='--', label='Test Timestamp')\n",
    "plt.legend()\n",
    "plt.xlabel('Date')\n",
    "plt.ylabel('Guiaba River Water Level (cm)')\n",
    "# plt.title('Previsão vs Real')\n",
    "plt.show()"
   ]
  },
  {
   "cell_type": "code",
   "execution_count": null,
   "metadata": {},
   "outputs": [],
   "source": [
    "torch.save(model.state_dict(), f\"best_model_12_hours_.pt\")"
   ]
  },
  {
   "cell_type": "code",
   "execution_count": 15,
   "metadata": {},
   "outputs": [],
   "source": [
    "torch.save(model.state_dict(), f\"best_model_12_hours_{int(time.time())}.pt\")\n",
    "# # model.load_state_dict(torch.load(\"best_model.pt\"))"
   ]
  },
  {
   "cell_type": "code",
   "execution_count": 18,
   "metadata": {},
   "outputs": [],
   "source": [
    "def calculate_permutation_importance_for_single_prediction(model, X, y, feature_names, prediction_index):\n",
    "    device = torch.device(\"cuda\" if torch.cuda.is_available() else \"cpu\")\n",
    "    model.to(device)\n",
    "    \n",
    "    X_tensor = torch.tensor(X, dtype=torch.float32).to(device)\n",
    "    \n",
    "    # Obter previsões de base\n",
    "    with torch.no_grad():\n",
    "        baseline_preds = model(X_tensor).cpu().numpy()\n",
    "    baseline_error = mean_squared_error(y, baseline_preds)\n",
    "\n",
    "    features = len(feature_names)\n",
    "    importances = np.zeros(features)\n",
    "\n",
    "    X_permuted = np.copy(X)\n",
    "    for feature in range(features):\n",
    "        original_feature_values = np.copy(X_permuted[prediction_index, :, feature])\n",
    "        np.random.shuffle(X_permuted[prediction_index, :, feature])\n",
    "        X_permuted_tensor = torch.tensor(X_permuted, dtype=torch.float32).to(device)\n",
    "        \n",
    "        with torch.no_grad():\n",
    "            permuted_preds = model(X_permuted_tensor).cpu().numpy()\n",
    "        permuted_error = mean_squared_error(y, permuted_preds)\n",
    "        importances[feature] = permuted_error - baseline_error\n",
    "        X_permuted[prediction_index, :, feature] = original_feature_values \n",
    "\n",
    "    return importances"
   ]
  },
  {
   "cell_type": "code",
   "execution_count": 20,
   "metadata": {},
   "outputs": [],
   "source": [
    "model_features = ['wind_speed_poa', 'wind_direction_poa', 'water_level_cm_gravatai', 'hourly_rain_mm_gravatai',\n",
    "    'water_level_cm_jacui', 'hourly_rain_mm_jacui', 'water_level_cm_sinos',\n",
    "    'hourly_rain_mm_sinos', 'water_level_cm_taquari',\n",
    "    'hourly_rain_mm_taquari', \n",
    "    'hourly_rain_mm_guaiba']"
   ]
  },
  {
   "cell_type": "markdown",
   "metadata": {},
   "source": [
    "# Calculando as importâcias"
   ]
  },
  {
   "cell_type": "markdown",
   "metadata": {},
   "source": [
    "1. Calcula para cada ponto nos dados de teste"
   ]
  },
  {
   "cell_type": "code",
   "execution_count": 21,
   "metadata": {},
   "outputs": [],
   "source": [
    "test_dates = df.index[len(train_val_real):len(train_val_real) + len(y_true)]\n",
    "\n",
    "outputs_prediction_importances = []\n",
    "\n",
    "for index in range(Y_test.shape[0]):\n",
    "    \n",
    "    prediction_index = index\n",
    "    prediction_importances = calculate_permutation_importance_for_single_prediction(model, X_test, Y_test.reshape(-1, 1), model_features, prediction_index)\n",
    "    outputs_prediction_importances.append(prediction_importances)"
   ]
  },
  {
   "cell_type": "markdown",
   "metadata": {},
   "source": [
    "2. Normaliza, considerando os seguintes passos:\n",
    "   - Usamos a relu (np.maximum(0, importance)), pois desconsideramos as importances negativas, pois significa que a remoção delas foi positiva para a previsão, ou seja, elas não tem importância positiva na previsão\n",
    "   - Depois normaliza, para o vetor de cada previsao tiver soma 1 e podermos interpretar isso como o percentual de importancia em cada previsao"
   ]
  },
  {
   "cell_type": "code",
   "execution_count": 22,
   "metadata": {},
   "outputs": [],
   "source": [
    "outputs_norm_importances = []\n",
    "for importance in outputs_prediction_importances:\n",
    "\n",
    "    relu_importances = np.maximum(0, importance)\n",
    "    total_importance = np.sum(relu_importances)\n",
    "    normalized_importances = relu_importances / total_importance\n",
    "    outputs_norm_importances.append(normalized_importances)"
   ]
  },
  {
   "cell_type": "code",
   "execution_count": 23,
   "metadata": {},
   "outputs": [],
   "source": [
    "outputs_norm_importances = np.array(outputs_norm_importances)"
   ]
  },
  {
   "cell_type": "markdown",
   "metadata": {},
   "source": [
    "3. Cria o dataframe, com as importancias, a date e a previsao realizada"
   ]
  },
  {
   "cell_type": "code",
   "execution_count": 24,
   "metadata": {},
   "outputs": [],
   "source": [
    "importance_columns = [f'importance_{feature}' for feature in model_features]\n",
    "df_importance = pd.DataFrame(outputs_norm_importances, columns=importance_columns)\n",
    "\n",
    "df_importance['y_pred'] = y_pred.flatten()\n",
    "\n",
    "df_importance.index = test_dates"
   ]
  },
  {
   "cell_type": "markdown",
   "metadata": {},
   "source": [
    "4. Agrega o dataframe por dia e da seguinte forma\n",
    "   - Para as importances calcula a media\n",
    "   - Para a previsao temos 3 colunas: media, max e min"
   ]
  },
  {
   "cell_type": "code",
   "execution_count": 25,
   "metadata": {},
   "outputs": [],
   "source": [
    "aggregated_df = df_importance.resample('12h').agg(\n",
    "    {**{col: 'mean' for col in importance_columns},\n",
    "     'y_pred': ['max', 'min', 'mean']}\n",
    ")\n",
    "\n",
    "aggregated_df.columns = [f'{col[0]}_{col[1]}' if col[1] else col[0] for col in aggregated_df.columns]"
   ]
  },
  {
   "cell_type": "markdown",
   "metadata": {},
   "source": [
    "5. Obtém as variáveis mais importantes para cada previsão"
   ]
  },
  {
   "cell_type": "code",
   "execution_count": 26,
   "metadata": {},
   "outputs": [],
   "source": [
    "def get_top_variables_with_values(df, importance_cols, n=4):\n",
    "    top_vars = df[importance_cols].apply(\n",
    "        lambda row: [(col, row[col]) for col in row.nlargest(n).index], axis=1\n",
    "    )\n",
    "    return top_vars\n",
    "\n",
    "importance_cols = aggregated_df.columns.drop(['y_pred_max', 'y_pred_min',\n",
    "       'y_pred_mean'])\n",
    "\n",
    "# Identificar as 4 variáveis com maior média para cada dia e seus valores\n",
    "top_variables_with_values = get_top_variables_with_values(aggregated_df, importance_cols)"
   ]
  },
  {
   "cell_type": "code",
   "execution_count": 27,
   "metadata": {},
   "outputs": [],
   "source": [
    "# date_index = aggregated_df.index.get_loc(\"2024-05-24 12:00:00\")\n",
    "\n",
    "# prompt_variables = {f\"{str(aggregated_df.index[date_index].date())}\": {\n",
    "#         \"main_responsable_variables\": [{\"variable\": var, \"importance_in_period\": val} for var, val in top_variables_with_values.iloc[date_index]],\n",
    "#         \"y_max\": aggregated_df.iloc[date_index][\"y_pred_max\"],\n",
    "#         \"y_min\": aggregated_df.iloc[date_index][\"y_pred_min\"],\n",
    "#         \"y_mean\": aggregated_df.iloc[date_index][\"y_pred_mean\"]\n",
    "# }}\n",
    "\n",
    "# prompt_variables"
   ]
  },
  {
   "cell_type": "code",
   "execution_count": 18,
   "metadata": {},
   "outputs": [
    {
     "data": {
      "text/plain": [
       "numpy.ndarray"
      ]
     },
     "execution_count": 18,
     "metadata": {},
     "output_type": "execute_result"
    }
   ],
   "source": [
    "type(test_predict)"
   ]
  },
  {
   "cell_type": "markdown",
   "metadata": {},
   "source": [
    "6. Adicionando o valor médio ou somado (para os casos de chuva) para cada variável"
   ]
  },
  {
   "cell_type": "code",
   "execution_count": 28,
   "metadata": {},
   "outputs": [],
   "source": [
    "rain_cols = [col for col in df if \"rain\" in col]\n",
    "other_cols = [col for col in df if \"rain\" not in col]\n",
    "\n",
    "aggregated_original = df.resample('12h').agg(\n",
    "    {**{col: 'mean' for col in other_cols},\n",
    "     **{col: 'sum' for col in rain_cols}     \n",
    "     }).drop(\"water_level_cm_guaiba\", axis=1)"
   ]
  },
  {
   "cell_type": "code",
   "execution_count": 29,
   "metadata": {},
   "outputs": [],
   "source": [
    "column_mapping = {\n",
    "    'importance_wind_speed_poa_mean': 'wind_speed_poa',\n",
    "    'importance_wind_direction_poa_mean': 'wind_direction_poa',\n",
    "    'importance_water_level_cm_gravatai_mean': 'water_level_cm_gravatai',\n",
    "    'importance_hourly_rain_mm_gravatai_mean': 'hourly_rain_mm_gravatai',\n",
    "    'importance_water_level_cm_jacui_mean': 'water_level_cm_jacui',\n",
    "    'importance_hourly_rain_mm_jacui_mean': 'hourly_rain_mm_jacui',\n",
    "    'importance_water_level_cm_sinos_mean': 'water_level_cm_sinos',\n",
    "    'importance_hourly_rain_mm_sinos_mean': 'hourly_rain_mm_sinos',\n",
    "    'importance_water_level_cm_taquari_mean': 'water_level_cm_taquari',\n",
    "    'importance_hourly_rain_mm_taquari_mean': 'hourly_rain_mm_taquari',\n",
    "    'importance_hourly_rain_mm_guaiba_mean': 'hourly_rain_mm_guaiba'\n",
    "}"
   ]
  },
  {
   "cell_type": "markdown",
   "metadata": {},
   "source": [
    "7. Json para o prompt"
   ]
  },
  {
   "cell_type": "code",
   "execution_count": 30,
   "metadata": {},
   "outputs": [],
   "source": [
    "# Está em metros pq vamos converter pra metros depois\n",
    "prompt_mapping = {\n",
    "    'importance_wind_speed_poa_mean': \"velocidade do vento em Porto Alegre (m/s)\",\n",
    "    'importance_wind_direction_poa_mean': \"direção do vento em Porto Alegre (graus)\",\n",
    "    'importance_water_level_cm_gravatai_mean': \"nível de água do Rio Gravataí (m)\",\n",
    "    'importance_hourly_rain_mm_gravatai_mean': \"chuva acumulada no Rio Gravataí para o período (mm)\",\n",
    "    'importance_water_level_cm_jacui_mean': \"nível de água do Rio Jacuí (m)\",\n",
    "    'importance_hourly_rain_mm_jacui_mean': \"chuva acumulada no Rio Jacuí para o período (mm)\",\n",
    "    'importance_water_level_cm_sinos_mean': \"nível de água do Rio dos Sinos (m)\",\n",
    "    'importance_hourly_rain_mm_sinos_mean': \"chuva acumulada no Rio dos Sinos para o período (mm)\",\n",
    "    'importance_water_level_cm_taquari_mean': \"nível de água do Rio Taquari (m)\",\n",
    "    'importance_hourly_rain_mm_taquari_mean': \"chuva acumulada no Rio Taquari para o período (mm)\",\n",
    "    'importance_hourly_rain_mm_guaiba_mean': \"chuva acumulada no Rio Guaíba para o período (mm)\", \n",
    "    'y_pred_max': \"Nível máximo previsto para o Rio Guaíba no período\", \n",
    "    'y_pred_min': \"Nível mínimo previsto para o Rio Guaíba no período\", \n",
    "    'y_pred_mean': \"Nível médio previsto para o Rio Guaíba no período\"\n",
    "}"
   ]
  },
  {
   "cell_type": "code",
   "execution_count": 31,
   "metadata": {},
   "outputs": [],
   "source": [
    "aggregated_df[\"y_pred_max\"] = round(aggregated_df[\"y_pred_max\"]/100, 3)\n",
    "aggregated_df[\"y_pred_min\"] = round(aggregated_df[\"y_pred_min\"]/100, 3)\n",
    "aggregated_df[\"y_pred_mean\"] = round(aggregated_df[\"y_pred_mean\"]/100, 3)"
   ]
  },
  {
   "cell_type": "code",
   "execution_count": 32,
   "metadata": {},
   "outputs": [],
   "source": [
    "aggregated_original[\"water_level_cm_gravatai\"] = round(aggregated_original[\"water_level_cm_gravatai\"]/100, 3)\n",
    "aggregated_original[\"water_level_cm_jacui\"] = round(aggregated_original[\"water_level_cm_jacui\"]/100, 3)\n",
    "aggregated_original[\"water_level_cm_sinos\"] = round(aggregated_original[\"water_level_cm_sinos\"]/100, 3)\n",
    "aggregated_original[\"water_level_cm_taquari\"] = round(aggregated_original[\"water_level_cm_taquari\"]/100, 3)"
   ]
  },
  {
   "cell_type": "code",
   "execution_count": 33,
   "metadata": {},
   "outputs": [],
   "source": [
    "# Função para renomear as colunas usando o prompt_mapping\n",
    "def rename_variables(variables, mapping):\n",
    "    return [{\"variable\": mapping[var], \"importance_in_period\": imp, \"value\": val} for var, imp, val in variables]\n",
    "\n",
    "# Atualizar o dicionário final com a estrutura desejada e renomear as colunas\n",
    "aggregated_dict = {}\n",
    "for date, row, top_vars in zip(aggregated_df.index, aggregated_df.itertuples(), top_variables_with_values):\n",
    "    date_str = str(date.date())\n",
    "    part = \"first part\" if date.hour == 0 else \"second part\"\n",
    "    key = f\"{date_str} {part}\"\n",
    "    \n",
    "    # Renomear variáveis\n",
    "    renamed_top_vars = rename_variables([(var, val, aggregated_original.loc[date, column_mapping[var]]) for var, val in top_vars], prompt_mapping)\n",
    "    \n",
    "    aggregated_dict[key] = {\n",
    "        \"main_responsable_variables\": renamed_top_vars,\n",
    "        prompt_mapping['y_pred_max']: row.y_pred_max,\n",
    "        prompt_mapping['y_pred_min']: row.y_pred_min,\n",
    "        prompt_mapping['y_pred_mean']: row.y_pred_mean\n",
    "    }"
   ]
  },
  {
   "cell_type": "code",
   "execution_count": 34,
   "metadata": {},
   "outputs": [
    {
     "data": {
      "text/plain": [
       "{'main_responsable_variables': [{'variable': 'chuva acumulada no Rio dos Sinos para o período (mm)',\n",
       "   'importance_in_period': 0.776919481463146,\n",
       "   'value': 0.0},\n",
       "  {'variable': 'chuva acumulada no Rio Taquari para o período (mm)',\n",
       "   'importance_in_period': 0.11424260110394505,\n",
       "   'value': 0.0},\n",
       "  {'variable': 'nível de água do Rio dos Sinos (m)',\n",
       "   'importance_in_period': 0.0364803724725274,\n",
       "   'value': 4.792},\n",
       "  {'variable': 'direção do vento em Porto Alegre (graus)',\n",
       "   'importance_in_period': 0.021812038411893803,\n",
       "   'value': 122.7275}],\n",
       " 'Nível máximo previsto para o Rio Guaíba no período': 4.09499979019165,\n",
       " 'Nível mínimo previsto para o Rio Guaíba no período': 3.989000082015991,\n",
       " 'Nível médio previsto para o Rio Guaíba no período': 4.0329999923706055}"
      ]
     },
     "execution_count": 34,
     "metadata": {},
     "output_type": "execute_result"
    }
   ],
   "source": [
    "aggregated_dict[\"2024-05-22 second part\"]"
   ]
  },
  {
   "cell_type": "markdown",
   "metadata": {},
   "source": [
    "## Prompt"
   ]
  },
  {
   "cell_type": "code",
   "execution_count": 35,
   "metadata": {},
   "outputs": [],
   "source": [
    "selected_period = \"2024-05-22 second part\""
   ]
  },
  {
   "cell_type": "code",
   "execution_count": 38,
   "metadata": {},
   "outputs": [],
   "source": [
    "PROMPT = f\"\"\"\n",
    "INSTRUCTION: \n",
    "You are a journalist, tasked with writing a brief news article (around 12 lines split into 2 paragraphs).\n",
    "\n",
    "INPUT:\n",
    "You will receive data in the following format:\n",
    "\n",
    "dict(\n",
    "    'main_responsable_variables': [\n",
    "                                    dict('variable': nome_da_variável,\n",
    "                                    'importance_in_period': feature_importance (0 to 1),\n",
    "                                    'value': variable_value_in_period),\n",
    "                                    ....\n",
    "                                    dict('variable': nome_da_variável,\n",
    "                                    'importance_in_period': feature_importance (0 to 1),\n",
    "                                    'value': variable_value_in_period)],                                                  \n",
    "    'Nível máximo previsto para o Rio Guaíba no período': water level value in meters,\n",
    "    'Nível mínimo previsto para o Rio Guaíba no período': water level value in meters,\n",
    "    'Nível médio previsto para o Rio Guaíba no período': water level value in meters\n",
    "    )\n",
    "\n",
    "HOW THIS INFORMATION WAS CALCULATED:\n",
    "A forecast was made for the water level of the Guaíba River ('Maximum predicted level for the Guaíba River in the period', 'Minimum predicted level for the Guaíba River in the period', and 'Average predicted level for the Guaíba River in the period').\n",
    "Based on this, I calculated the feature importance of each forecast and returned in 'main_responsable_variables' the 4 most important features for each forecast.\n",
    "\n",
    "Each item will contain:\n",
    " - 'variable': Name of the variable\n",
    " - 'importance_in_period': Feature importance (ranging from 0 to 1, like a percentage)\n",
    " - 'value': Value of the variable in the period. Note: The scale will match the variable, e.g., m, m/s, mm, etc.\n",
    "\n",
    "NEWS ARTICLE FORMAT:\n",
    "You will also receive the timestamp of the news you will report, for example \"2020-05-22 second part\", which means the forecast made for the second half of May 22, 2020.\n",
    "From this, you will write a news article in a tone of concern, remembering that you are a journalist.\n",
    "ALWAYS mention the maximum, average, and minimum predicted levels for the Guaíba River in the period.\n",
    "ALWAYS mention the factors that contributed the most to this forecast (specifically the 4 main_responsable_variables)\n",
    "However, NEVER mention the feature importance value (importance_in_period), but you should convey the tone of each variable according to its importance, without mentioning the exact importance.\n",
    "For the \"value\", you can mention it when you find it appropriate.\n",
    "\n",
    "DATE:\n",
    "You should write about the forecast for the day {selected_period} (write the date in full), here is the data.\n",
    "{aggregated_dict[selected_period]}\n",
    "\n",
    "IMPORTANT: Always reply in Brazilian Portuguese.\"\"\"\n"
   ]
  },
  {
   "cell_type": "code",
   "execution_count": 39,
   "metadata": {},
   "outputs": [
    {
     "data": {
      "text/plain": [
       "'\\nINSTRUCTION: \\nYou are a journalist, tasked with writing a brief news article (around 12 lines split into 2 paragraphs).\\n\\nINPUT:\\nYou will receive data in the following format:\\n\\ndict(\\n    \\'main_responsable_variables\\': [\\n                                    dict(\\'variable\\': nome_da_variável,\\n                                    \\'importance_in_period\\': feature_importance (0 to 1),\\n                                    \\'value\\': variable_value_in_period),\\n                                    ....\\n                                    dict(\\'variable\\': nome_da_variável,\\n                                    \\'importance_in_period\\': feature_importance (0 to 1),\\n                                    \\'value\\': variable_value_in_period)],                                                  \\n    \\'Nível máximo previsto para o Rio Guaíba no período\\': water level value in meters,\\n    \\'Nível mínimo previsto para o Rio Guaíba no período\\': water level value in meters,\\n    \\'Nível médio previsto para o Rio Guaíba no período\\': water level value in meters\\n    )\\n\\nHOW THIS INFORMATION WAS CALCULATED:\\nA forecast was made for the water level of the Guaíba River (\\'Maximum predicted level for the Guaíba River in the period\\', \\'Minimum predicted level for the Guaíba River in the period\\', and \\'Average predicted level for the Guaíba River in the period\\').\\nBased on this, I calculated the feature importance of each forecast and returned in \\'main_responsable_variables\\' the 4 most important features for each forecast.\\n\\nEach item will contain:\\n - \\'variable\\': Name of the variable\\n - \\'importance_in_period\\': Feature importance (ranging from 0 to 1, like a percentage)\\n - \\'value\\': Value of the variable in the period. Note: The scale will match the variable, e.g., m, m/s, mm, etc.\\n\\nNEWS ARTICLE FORMAT:\\nYou will also receive the timestamp of the news you will report, for example \"2020-05-22 second part\", which means the forecast made for the second half of May 22, 2020.\\nFrom this, you will write a news article in a tone of concern, remembering that you are a journalist.\\nALWAYS mention the maximum, average, and minimum predicted levels for the Guaíba River in the period.\\nALWAYS mention the factors that contributed the most to this forecast (specifically the 4 main_responsable_variables)\\nHowever, NEVER mention the feature importance value (importance_in_period), but you should convey the tone of each variable according to its importance, without mentioning the exact importance.\\nFor the \"value\", you can mention it when you find it appropriate.\\n\\nDATE:\\nYou should write about the forecast for the day 2024-05-22 second part (write the date in full), here is the data.\\n{\\'main_responsable_variables\\': [{\\'variable\\': \\'chuva acumulada no Rio dos Sinos para o período (mm)\\', \\'importance_in_period\\': 0.776919481463146, \\'value\\': 0.0}, {\\'variable\\': \\'chuva acumulada no Rio Taquari para o período (mm)\\', \\'importance_in_period\\': 0.11424260110394505, \\'value\\': 0.0}, {\\'variable\\': \\'nível de água do Rio dos Sinos (m)\\', \\'importance_in_period\\': 0.0364803724725274, \\'value\\': 4.792}, {\\'variable\\': \\'direção do vento em Porto Alegre (graus)\\', \\'importance_in_period\\': 0.021812038411893803, \\'value\\': 122.7275}], \\'Nível máximo previsto para o Rio Guaíba no período\\': 4.09499979019165, \\'Nível mínimo previsto para o Rio Guaíba no período\\': 3.989000082015991, \\'Nível médio previsto para o Rio Guaíba no período\\': 4.0329999923706055}\\n\\nIMPORTANT: Always reply in Brazilian Portuguese.'"
      ]
     },
     "execution_count": 39,
     "metadata": {},
     "output_type": "execute_result"
    }
   ],
   "source": [
    "PROMPT"
   ]
  },
  {
   "cell_type": "markdown",
   "metadata": {},
   "source": [
    "# Importância média para as previsões"
   ]
  },
  {
   "cell_type": "code",
   "execution_count": 95,
   "metadata": {},
   "outputs": [],
   "source": [
    "mean_importances = np.mean(outputs_norm_importances, axis=0)"
   ]
  },
  {
   "cell_type": "code",
   "execution_count": 96,
   "metadata": {},
   "outputs": [
    {
     "data": {
      "image/png": "[encoded data removed]",
      "text/plain": [
       "<Figure size 1200x600 with 1 Axes>"
      ]
     },
     "metadata": {},
     "output_type": "display_data"
    }
   ],
   "source": [
    "# Plotar importâncias para uma previsão específica\n",
    "plt.figure(figsize=(12, 6))\n",
    "sns.barplot(x=mean_importances, y=model_features)\n",
    "plt.xlabel('Importance')\n",
    "plt.ylabel('Features')\n",
    "plt.show()"
   ]
  }
 ],
 "metadata": {
  "kernelspec": {
   "display_name": ".venv",
   "language": "python",
   "name": "python3"
  },
  "language_info": {
   "codemirror_mode": {
    "name": "ipython",
    "version": 3
   },
   "file_extension": ".py",
   "mimetype": "text/x-python",
   "name": "python",
   "nbconvert_exporter": "python",
   "pygments_lexer": "ipython3",
   "version": "3.11.9"
  }
 },
 "nbformat": 4,
 "nbformat_minor": 2
}
