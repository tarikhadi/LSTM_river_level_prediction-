{
 "cells": [
  {
   "cell_type": "code",
   "execution_count": 1,
   "metadata": {},
   "outputs": [],
   "source": [
    "import pandas as pd"
   ]
  },
  {
   "cell_type": "code",
   "execution_count": 2,
   "metadata": {},
   "outputs": [],
   "source": [
    "df_merra2 = pd.read_csv(\"data/MERRA2_data.csv\", skiprows=9)\n",
    "df_meteorologicos_porto_alegre = pd.read_csv(\"data/dados_meteorologicos_porto_alegre.csv\")\n",
    "df_meteorologicos_serra_gaucha = pd.read_csv(\"data/dados_meteorologicos_serra_gaucha.csv\")\n",
    "\n",
    "df_cai_nivel = pd.read_csv(\"data/df_cai_nivel.csv\")\n",
    "df_gravatai_nivel = pd.read_csv(\"data/df_gravatai_nivel.csv\")\n",
    "df_guaiba_nivel = pd.read_csv(\"data/df_guaiba_nivel.csv\")\n",
    "df_jacui_nivel = pd.read_csv(\"data/df_jacui_nivel.csv\")\n",
    "df_sinos_nivel = pd.read_csv(\"data/df_sinos_nivel.csv\")\n",
    "df_taquari_nivel = pd.read_csv(\"data/df_taquari_nivel.csv\")"
   ]
  },
  {
   "cell_type": "code",
   "execution_count": 3,
   "metadata": {},
   "outputs": [],
   "source": [
    "# df_meteorologicos_serra_gaucha = df_meteorologicos_serra_gaucha.drop(columns=[\"snow\", \"wpgt\", \"tsun\"])\n",
    "# df_meteorologicos_porto_alegre = df_meteorologicos_porto_alegre.drop(columns=[\"snow\", \"wpgt\", \"tsun\"])\n",
    "# df_meteorologicos_serra_gaucha.columns = [\"date\", \"tavg_serra\", \"tmin_serra\", \"tmax_serra\", \"prcp_serra\", \"wdir_serra\", \"wspd_serra\", \"pres_serra\"]\n",
    "# df_meteorologicos_porto_alegre.columns = [\"date\", \"tavg_poa\", \"tmin_poa\", \"tmax_poa\", \"prcp_poa\", \"wdir_poa\", \"wspd_poa\", \"pres_poa\"]"
   ]
  },
  {
   "cell_type": "code",
   "execution_count": 4,
   "metadata": {},
   "outputs": [],
   "source": [
    "df_cai_nivel.columns = [\"date\", \"water_level_cm_cai\", \"hourly_rain_mm_cai\"]\n",
    "df_gravatai_nivel.columns = [\"date\", \"water_level_cm_gravatai\", \"hourly_rain_mm_gravatai\"]\n",
    "df_guaiba_nivel.columns = [\"date\", \"water_level_cm_guaiba\", \"hourly_rain_mm_guaiba\"]\n",
    "df_jacui_nivel.columns = [\"date\", \"water_level_cm_jacui\", \"hourly_rain_mm_jacui\"]\n",
    "df_sinos_nivel.columns = [\"date\", \"water_level_cm_sinos\", \"hourly_rain_mm_sinos\"]\n",
    "df_taquari_nivel.columns = [\"date\", \"water_level_cm_taquari\", \"hourly_rain_mm_taquari\"]"
   ]
  },
  {
   "cell_type": "code",
   "execution_count": 5,
   "metadata": {},
   "outputs": [],
   "source": [
    "# df_merra2[\"Date\"] = pd.to_datetime(df_merra2[\"Date\"])\n",
    "\n",
    "df_cai_nivel[\"date\"] = pd.to_datetime(df_cai_nivel[\"date\"])\n",
    "df_gravatai_nivel[\"date\"] = pd.to_datetime(df_gravatai_nivel[\"date\"])\n",
    "df_guaiba_nivel[\"date\"] = pd.to_datetime(df_guaiba_nivel[\"date\"])\n",
    "df_jacui_nivel[\"date\"] = pd.to_datetime(df_jacui_nivel[\"date\"])\n",
    "df_sinos_nivel[\"date\"] = pd.to_datetime(df_sinos_nivel[\"date\"])\n",
    "df_taquari_nivel[\"date\"] = pd.to_datetime(df_taquari_nivel[\"date\"])\n",
    "\n",
    "# \n",
    "# df_cai_nivel = df_cai_nivel.sort_values(by=\"date\").reset_index(drop=True)\n",
    "df_gravatai_nivel = df_gravatai_nivel.sort_values(by=\"date\").reset_index(drop=True)\n",
    "df_guaiba_nivel = df_guaiba_nivel.sort_values(by=\"date\").reset_index(drop=True)\n",
    "df_jacui_nivel = df_jacui_nivel.sort_values(by=\"date\").reset_index(drop=True)\n",
    "df_sinos_nivel = df_sinos_nivel.sort_values(by=\"date\").reset_index(drop=True)\n",
    "df_taquari_nivel = df_taquari_nivel.sort_values(by=\"date\").reset_index(drop=True)"
   ]
  },
  {
   "cell_type": "code",
   "execution_count": 6,
   "metadata": {},
   "outputs": [],
   "source": [
    "from pandas.core.frame import DataFrame\n",
    "def to_hourly(df: DataFrame, river_name: str) -> DataFrame:\n",
    "    df.set_index('date', inplace=True)\n",
    "\n",
    "    # Agrupando para frequência horária\n",
    "    df = df.resample('H').agg({\n",
    "        f'water_level_cm_{river_name}': 'mean',\n",
    "        f'hourly_rain_mm_{river_name}': 'sum'\n",
    "    }).reset_index()\n",
    "    return df\n"
   ]
  },
  {
   "cell_type": "code",
   "execution_count": 7,
   "metadata": {},
   "outputs": [],
   "source": [
    "df_gravatai_hourly = to_hourly(df=df_gravatai_nivel, river_name=\"gravatai\")\n",
    "df_guaiba_hourly = to_hourly(df=df_guaiba_nivel, river_name=\"guaiba\")\n",
    "df_jacui_hourly = to_hourly(df=df_jacui_nivel, river_name=\"jacui\")\n",
    "df_sinos_hourly = to_hourly(df=df_sinos_nivel, river_name=\"sinos\")\n",
    "df_taquari_hourly = to_hourly(df=df_taquari_nivel, river_name=\"taquari\")"
   ]
  },
  {
   "cell_type": "code",
   "execution_count": 8,
   "metadata": {},
   "outputs": [
    {
     "data": {
      "text/html": [
       "<div>\n",
       "<style scoped>\n",
       "    .dataframe tbody tr th:only-of-type {\n",
       "        vertical-align: middle;\n",
       "    }\n",
       "\n",
       "    .dataframe tbody tr th {\n",
       "        vertical-align: top;\n",
       "    }\n",
       "\n",
       "    .dataframe thead th {\n",
       "        text-align: right;\n",
       "    }\n",
       "</style>\n",
       "<table border=\"1\" class=\"dataframe\">\n",
       "  <thead>\n",
       "    <tr style=\"text-align: right;\">\n",
       "      <th></th>\n",
       "      <th>date</th>\n",
       "      <th>water_level_cm_sinos</th>\n",
       "      <th>hourly_rain_mm_sinos</th>\n",
       "    </tr>\n",
       "  </thead>\n",
       "  <tbody>\n",
       "    <tr>\n",
       "      <th>0</th>\n",
       "      <td>2024-04-15 00:00:00</td>\n",
       "      <td>122.00</td>\n",
       "      <td>0.0</td>\n",
       "    </tr>\n",
       "    <tr>\n",
       "      <th>1</th>\n",
       "      <td>2024-04-15 01:00:00</td>\n",
       "      <td>120.50</td>\n",
       "      <td>0.0</td>\n",
       "    </tr>\n",
       "    <tr>\n",
       "      <th>2</th>\n",
       "      <td>2024-04-15 02:00:00</td>\n",
       "      <td>119.50</td>\n",
       "      <td>0.0</td>\n",
       "    </tr>\n",
       "    <tr>\n",
       "      <th>3</th>\n",
       "      <td>2024-04-15 03:00:00</td>\n",
       "      <td>118.50</td>\n",
       "      <td>0.0</td>\n",
       "    </tr>\n",
       "    <tr>\n",
       "      <th>4</th>\n",
       "      <td>2024-04-15 04:00:00</td>\n",
       "      <td>118.00</td>\n",
       "      <td>0.0</td>\n",
       "    </tr>\n",
       "    <tr>\n",
       "      <th>...</th>\n",
       "      <td>...</td>\n",
       "      <td>...</td>\n",
       "      <td>...</td>\n",
       "    </tr>\n",
       "    <tr>\n",
       "      <th>1097</th>\n",
       "      <td>2024-05-30 17:00:00</td>\n",
       "      <td>481.25</td>\n",
       "      <td>0.0</td>\n",
       "    </tr>\n",
       "    <tr>\n",
       "      <th>1098</th>\n",
       "      <td>2024-05-30 18:00:00</td>\n",
       "      <td>480.75</td>\n",
       "      <td>0.0</td>\n",
       "    </tr>\n",
       "    <tr>\n",
       "      <th>1099</th>\n",
       "      <td>2024-05-30 19:00:00</td>\n",
       "      <td>480.50</td>\n",
       "      <td>0.0</td>\n",
       "    </tr>\n",
       "    <tr>\n",
       "      <th>1100</th>\n",
       "      <td>2024-05-30 20:00:00</td>\n",
       "      <td>480.00</td>\n",
       "      <td>0.0</td>\n",
       "    </tr>\n",
       "    <tr>\n",
       "      <th>1101</th>\n",
       "      <td>2024-05-30 21:00:00</td>\n",
       "      <td>480.00</td>\n",
       "      <td>0.0</td>\n",
       "    </tr>\n",
       "  </tbody>\n",
       "</table>\n",
       "<p>1102 rows × 3 columns</p>\n",
       "</div>"
      ],
      "text/plain": [
       "                    date  water_level_cm_sinos  hourly_rain_mm_sinos\n",
       "0    2024-04-15 00:00:00                122.00                   0.0\n",
       "1    2024-04-15 01:00:00                120.50                   0.0\n",
       "2    2024-04-15 02:00:00                119.50                   0.0\n",
       "3    2024-04-15 03:00:00                118.50                   0.0\n",
       "4    2024-04-15 04:00:00                118.00                   0.0\n",
       "...                  ...                   ...                   ...\n",
       "1097 2024-05-30 17:00:00                481.25                   0.0\n",
       "1098 2024-05-30 18:00:00                480.75                   0.0\n",
       "1099 2024-05-30 19:00:00                480.50                   0.0\n",
       "1100 2024-05-30 20:00:00                480.00                   0.0\n",
       "1101 2024-05-30 21:00:00                480.00                   0.0\n",
       "\n",
       "[1102 rows x 3 columns]"
      ]
     },
     "execution_count": 8,
     "metadata": {},
     "output_type": "execute_result"
    }
   ],
   "source": [
    "df_sinos_hourly"
   ]
  },
  {
   "cell_type": "markdown",
   "metadata": {},
   "source": [
    "## Merra2"
   ]
  },
  {
   "cell_type": "code",
   "execution_count": 9,
   "metadata": {},
   "outputs": [],
   "source": [
    "df_merra2['Time (UTC)'] = pd.to_datetime(df_merra2['Time (UTC)'], format='%H:%M:%S').dt.floor('H').dt.time\n",
    "\n",
    "# Concatenar as colunas Date e Time (UTC)\n",
    "df_merra2['datetime_utc'] = pd.to_datetime(df_merra2['Date'] + ' ' + df_merra2['Time (UTC)'].astype(str), format='%d/%m/%Y %H:%M:%S')\n",
    "\n",
    "# Converter de UTC para o fuso horário de Brasília (BRT)\n",
    "df_merra2['datetime_brasilia'] = df_merra2['datetime_utc'].dt.tz_localize('UTC').dt.tz_convert('America/Sao_Paulo')\n",
    "\n",
    "# Remover o fuso horário para manter o formato YYYY-MM-DD HH:MM:SS\n",
    "df_merra2['datetime_brasilia'] = df_merra2['datetime_brasilia'].dt.tz_localize(None)\n"
   ]
  },
  {
   "cell_type": "code",
   "execution_count": 10,
   "metadata": {},
   "outputs": [],
   "source": [
    "df_merra2 = df_merra2[(df_merra2[\"datetime_brasilia\"]>=\"2024-04-15 00:00:00\")&(df_merra2[\"datetime_brasilia\"]<=\"2024-05-30 21:00:00\")]"
   ]
  },
  {
   "cell_type": "code",
   "execution_count": 11,
   "metadata": {},
   "outputs": [],
   "source": [
    "df_merra2 = df_merra2.rename(columns={\"datetime_brasilia\": \"date\"})"
   ]
  },
  {
   "cell_type": "code",
   "execution_count": 12,
   "metadata": {},
   "outputs": [],
   "source": [
    "df_merra2 = df_merra2[[\"date\", \"Wind Speed\", \"Wind Direction\", \"Temperature\", \"Pressure\"]]"
   ]
  },
  {
   "cell_type": "code",
   "execution_count": 13,
   "metadata": {},
   "outputs": [],
   "source": [
    "df_merra2.columns = [\"date\", \"wind_speed_poa\", \"wind_direction_poa\", \"temperature_poa\", \"pressure_poa\"]"
   ]
  },
  {
   "cell_type": "code",
   "execution_count": 14,
   "metadata": {},
   "outputs": [
    {
     "data": {
      "text/html": [
       "<div>\n",
       "<style scoped>\n",
       "    .dataframe tbody tr th:only-of-type {\n",
       "        vertical-align: middle;\n",
       "    }\n",
       "\n",
       "    .dataframe tbody tr th {\n",
       "        vertical-align: top;\n",
       "    }\n",
       "\n",
       "    .dataframe thead th {\n",
       "        text-align: right;\n",
       "    }\n",
       "</style>\n",
       "<table border=\"1\" class=\"dataframe\">\n",
       "  <thead>\n",
       "    <tr style=\"text-align: right;\">\n",
       "      <th></th>\n",
       "      <th>date</th>\n",
       "      <th>wind_speed_poa</th>\n",
       "      <th>wind_direction_poa</th>\n",
       "      <th>temperature_poa</th>\n",
       "      <th>pressure_poa</th>\n",
       "    </tr>\n",
       "  </thead>\n",
       "  <tbody>\n",
       "    <tr>\n",
       "      <th>1776</th>\n",
       "      <td>2024-04-15 00:00:00</td>\n",
       "      <td>5.53</td>\n",
       "      <td>86.08</td>\n",
       "      <td>22.68</td>\n",
       "      <td>1007.94</td>\n",
       "    </tr>\n",
       "    <tr>\n",
       "      <th>1777</th>\n",
       "      <td>2024-04-15 01:00:00</td>\n",
       "      <td>5.74</td>\n",
       "      <td>91.70</td>\n",
       "      <td>22.56</td>\n",
       "      <td>1007.83</td>\n",
       "    </tr>\n",
       "    <tr>\n",
       "      <th>1778</th>\n",
       "      <td>2024-04-15 02:00:00</td>\n",
       "      <td>5.89</td>\n",
       "      <td>94.10</td>\n",
       "      <td>22.49</td>\n",
       "      <td>1007.66</td>\n",
       "    </tr>\n",
       "    <tr>\n",
       "      <th>1779</th>\n",
       "      <td>2024-04-15 03:00:00</td>\n",
       "      <td>6.29</td>\n",
       "      <td>90.87</td>\n",
       "      <td>22.54</td>\n",
       "      <td>1007.30</td>\n",
       "    </tr>\n",
       "    <tr>\n",
       "      <th>1780</th>\n",
       "      <td>2024-04-15 04:00:00</td>\n",
       "      <td>6.60</td>\n",
       "      <td>86.56</td>\n",
       "      <td>22.56</td>\n",
       "      <td>1007.03</td>\n",
       "    </tr>\n",
       "    <tr>\n",
       "      <th>...</th>\n",
       "      <td>...</td>\n",
       "      <td>...</td>\n",
       "      <td>...</td>\n",
       "      <td>...</td>\n",
       "      <td>...</td>\n",
       "    </tr>\n",
       "    <tr>\n",
       "      <th>2873</th>\n",
       "      <td>2024-05-30 17:00:00</td>\n",
       "      <td>1.89</td>\n",
       "      <td>164.64</td>\n",
       "      <td>16.33</td>\n",
       "      <td>1019.05</td>\n",
       "    </tr>\n",
       "    <tr>\n",
       "      <th>2874</th>\n",
       "      <td>2024-05-30 18:00:00</td>\n",
       "      <td>2.82</td>\n",
       "      <td>156.10</td>\n",
       "      <td>15.40</td>\n",
       "      <td>1019.62</td>\n",
       "    </tr>\n",
       "    <tr>\n",
       "      <th>2875</th>\n",
       "      <td>2024-05-30 19:00:00</td>\n",
       "      <td>3.30</td>\n",
       "      <td>140.79</td>\n",
       "      <td>14.55</td>\n",
       "      <td>1020.02</td>\n",
       "    </tr>\n",
       "    <tr>\n",
       "      <th>2876</th>\n",
       "      <td>2024-05-30 20:00:00</td>\n",
       "      <td>3.37</td>\n",
       "      <td>127.12</td>\n",
       "      <td>13.86</td>\n",
       "      <td>1020.37</td>\n",
       "    </tr>\n",
       "    <tr>\n",
       "      <th>2877</th>\n",
       "      <td>2024-05-30 21:00:00</td>\n",
       "      <td>3.41</td>\n",
       "      <td>116.74</td>\n",
       "      <td>13.15</td>\n",
       "      <td>1020.68</td>\n",
       "    </tr>\n",
       "  </tbody>\n",
       "</table>\n",
       "<p>1102 rows × 5 columns</p>\n",
       "</div>"
      ],
      "text/plain": [
       "                    date  wind_speed_poa  wind_direction_poa  temperature_poa  \\\n",
       "1776 2024-04-15 00:00:00            5.53               86.08            22.68   \n",
       "1777 2024-04-15 01:00:00            5.74               91.70            22.56   \n",
       "1778 2024-04-15 02:00:00            5.89               94.10            22.49   \n",
       "1779 2024-04-15 03:00:00            6.29               90.87            22.54   \n",
       "1780 2024-04-15 04:00:00            6.60               86.56            22.56   \n",
       "...                  ...             ...                 ...              ...   \n",
       "2873 2024-05-30 17:00:00            1.89              164.64            16.33   \n",
       "2874 2024-05-30 18:00:00            2.82              156.10            15.40   \n",
       "2875 2024-05-30 19:00:00            3.30              140.79            14.55   \n",
       "2876 2024-05-30 20:00:00            3.37              127.12            13.86   \n",
       "2877 2024-05-30 21:00:00            3.41              116.74            13.15   \n",
       "\n",
       "      pressure_poa  \n",
       "1776       1007.94  \n",
       "1777       1007.83  \n",
       "1778       1007.66  \n",
       "1779       1007.30  \n",
       "1780       1007.03  \n",
       "...            ...  \n",
       "2873       1019.05  \n",
       "2874       1019.62  \n",
       "2875       1020.02  \n",
       "2876       1020.37  \n",
       "2877       1020.68  \n",
       "\n",
       "[1102 rows x 5 columns]"
      ]
     },
     "execution_count": 14,
     "metadata": {},
     "output_type": "execute_result"
    }
   ],
   "source": [
    "df_merra2"
   ]
  },
  {
   "cell_type": "code",
   "execution_count": 15,
   "metadata": {},
   "outputs": [],
   "source": [
    "dfs = [df_merra2, df_gravatai_hourly, df_jacui_hourly, df_sinos_hourly, df_taquari_hourly, df_guaiba_hourly]\n",
    "\n",
    "# Utilizar merge sequencial para juntar todos os dataframes\n",
    "df_merged = dfs[0]\n",
    "for df in dfs[1:]:\n",
    "    df_merged = df_merged.merge(df, on='date', how='outer')"
   ]
  },
  {
   "cell_type": "code",
   "execution_count": 16,
   "metadata": {},
   "outputs": [],
   "source": [
    "df_merged = df_merged.interpolate(method='ffill', limit_direction='forward').copy()"
   ]
  },
  {
   "cell_type": "code",
   "execution_count": 21,
   "metadata": {},
   "outputs": [],
   "source": [
    "df_merged.to_csv(\"data/df.csv\", index=False)"
   ]
  }
 ],
 "metadata": {
  "kernelspec": {
   "display_name": ".venv",
   "language": "python",
   "name": "python3"
  },
  "language_info": {
   "codemirror_mode": {
    "name": "ipython",
    "version": 3
   },
   "file_extension": ".py",
   "mimetype": "text/x-python",
   "name": "python",
   "nbconvert_exporter": "python",
   "pygments_lexer": "ipython3",
   "version": "3.11.9"
  }
 },
 "nbformat": 4,
 "nbformat_minor": 2
}
